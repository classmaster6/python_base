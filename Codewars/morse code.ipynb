{
 "cells": [
  {
   "cell_type": "code",
   "execution_count": 62,
   "source": [
    "MORSE_CODE =   {'..-.': 'F', '-..-': 'X',\r\n",
    "                '.--.': 'P', '-': 'T', '..---': '2',\r\n",
    "                '....-': '4', '-----': '0', '--...': '7',\r\n",
    "                '...-': 'V', '-.-.': 'C', '.': 'E', '.---': 'J',\r\n",
    "                '---': 'O', '-.-': 'K', '----.': '9', '..': 'I',\r\n",
    "                '.-..': 'L', '.....': '5', '...--': '3', '-.--': 'Y',\r\n",
    "                '-....': '6', '.--': 'W', '....': 'H', '-.': 'N', '.-.': 'R',\r\n",
    "                '-...': 'B', '---..': '8', '--..': 'Z', '-..': 'D', '--.-': 'Q',\r\n",
    "                '--.': 'G', '--': 'M', '..-': 'U', '.-': 'A', '...': 'S', '.----': '1'}"
   ],
   "outputs": [],
   "metadata": {}
  },
  {
   "cell_type": "code",
   "execution_count": 63,
   "source": [
    "def decodeMorse(morse_sequence):\r\n",
    "    words = []\r\n",
    "    for morse_word in morse_sequence.split('   '):\r\n",
    "        word = ''.join(MORSE_CODE.get(morse_char, '') for morse_char in morse_word.split(' '))\r\n",
    "        if word:\r\n",
    "            words.append(word)\r\n",
    "    return ' '.join(words)"
   ],
   "outputs": [],
   "metadata": {}
  },
  {
   "cell_type": "code",
   "execution_count": 64,
   "source": [
    "decodeMorse('.-- .... .- -   .. ...   ..- .--.')"
   ],
   "outputs": [
    {
     "output_type": "execute_result",
     "data": {
      "text/plain": [
       "'WHAT IS UP'"
      ]
     },
     "metadata": {},
     "execution_count": 64
    }
   ],
   "metadata": {}
  },
  {
   "cell_type": "code",
   "execution_count": 69,
   "source": [
    "decodeMorse('.-- .... .- -     .. ...     ..- .--.')    # works for 5 space codes too"
   ],
   "outputs": [
    {
     "output_type": "execute_result",
     "data": {
      "text/plain": [
       "'WHAT IS UP'"
      ]
     },
     "metadata": {},
     "execution_count": 69
    }
   ],
   "metadata": {}
  },
  {
   "cell_type": "code",
   "execution_count": 68,
   "source": [
    "def decodeMorseBetter(morse_code):\r\n",
    "    return ' '.join(''.join(MORSE_CODE[letter] for letter in word.split(' ')) for word in morse_code.strip().split('   '))"
   ],
   "outputs": [],
   "metadata": {}
  },
  {
   "cell_type": "code",
   "execution_count": 67,
   "source": [
    "decodeMorseBetter('.-- .... .- -   .. ...   ..- .--.')"
   ],
   "outputs": [
    {
     "output_type": "execute_result",
     "data": {
      "text/plain": [
       "'WHAT IS UP'"
      ]
     },
     "metadata": {},
     "execution_count": 67
    }
   ],
   "metadata": {}
  }
 ],
 "metadata": {
  "orig_nbformat": 4,
  "language_info": {
   "name": "python",
   "version": "3.9.6",
   "mimetype": "text/x-python",
   "codemirror_mode": {
    "name": "ipython",
    "version": 3
   },
   "pygments_lexer": "ipython3",
   "nbconvert_exporter": "python",
   "file_extension": ".py"
  },
  "kernelspec": {
   "name": "python3",
   "display_name": "Python 3.9.6 64-bit"
  },
  "interpreter": {
   "hash": "52f04dc87714d7168f042e747d2f3f5589fe67e0f15546d36915a1c1b576b1fd"
  }
 },
 "nbformat": 4,
 "nbformat_minor": 2
}